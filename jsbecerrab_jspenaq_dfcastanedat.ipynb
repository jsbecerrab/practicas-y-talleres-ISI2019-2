{
  "nbformat": 4,
  "nbformat_minor": 0,
  "metadata": {
    "colab": {
      "name": "jsbecerrab-jspenaq-dfcastanedat.ipynb",
      "version": "0.3.2",
      "provenance": [],
      "collapsed_sections": []
    },
    "kernelspec": {
      "name": "python3",
      "display_name": "Python 3"
    }
  },
  "cells": [
    {
      "cell_type": "markdown",
      "metadata": {
        "id": "4Miq2KpYG5cD",
        "colab_type": "text"
      },
      "source": [
        "# Práctica 1: Búsquedas no informadas\n",
        "### [Introducción a los sistemas inteligentes 2019-2](https://fagonzalezo.github.io/iis-2019-2/)\n",
        "\n",
        "* Juan Sebastian Becerra Barcenas 1118569845\n",
        "* Juan Sebastian Peña Quintero 1015470303 \n",
        "* Daniel Fernando Castañeda Torres 1075684238\n",
        "\n",
        "## 1. El problema de las jarras de agua\n",
        "\n",
        "Usted tiene 2 jarras, una con capacidad de 3 litros y otra con capacidad de 5 litros. Además, se\n",
        "cuenta con un grifo. Las jarras se pueden llenar totalmente, vaciar en el piso y vaciar parcialmente el\n",
        "contenido de una jarra en la otra. Las jarras no tienen ninguna clase de marca. El objetivo es medir\n",
        "exactamente un litro de agua.\n",
        "\n",
        "![](https://raw.githubusercontent.com/jsbecerrab/Imagenes-inteligentes/master/water22.png)\n",
        "\n",
        "### 1.1 \n",
        "Modele este problema creando una clase:"
      ]
    },
    {
      "cell_type": "code",
      "metadata": {
        "id": "xrePrZwcRDaK",
        "colab_type": "code",
        "colab": {}
      },
      "source": [
        "%matplotlib inline\n",
        "import matplotlib.pyplot as plt\n",
        "import random\n",
        "import heapq\n",
        "import math\n",
        "import sys\n",
        "from collections import defaultdict, deque, Counter\n",
        "from itertools import combinations\n",
        "\n",
        "class JarProblem(object):\n",
        "    \n",
        "\n",
        "    def __init__(self, initial, goal, capacity): \n",
        "        self.capacity = capacity\n",
        "        self.initial = initial #(0,0)\n",
        "        self.goal = goal\n",
        "        \n",
        "    def actions(self, state):        \n",
        "        result = []\n",
        "        if state[0] < self.capacity[0]:\n",
        "          result.append(\"Fill A\")\n",
        "        if state[1] < self.capacity[1]:\n",
        "          result.append(\"Fill B\")\n",
        "        if state[0] > 0:\n",
        "          result.append(\"Dump A\")\n",
        "        if state[1] > 0:\n",
        "          result.append(\"Dump B\")\n",
        "        if state[0] > 0 and state[1] < self.capacity[1]:\n",
        "          result.append(\"A -> B\")\n",
        "        if state[1] > 0 and state[0] < self.capacity[0]:\n",
        "          result.append(\"B -> A\")\n",
        "        return result\n",
        "      \n",
        "    def result(self, state, action): \n",
        "        newstate = list(state)\n",
        "        if action == \"Fill A\":\n",
        "          newstate[0] = self.capacity[0]\n",
        "        elif action == \"Fill B\":\n",
        "          newstate[1] = self.capacity[1]\n",
        "        elif action == \"Dump A\":\n",
        "          newstate[0] = 0\n",
        "        elif action == \"Dump B\":\n",
        "          newstate[1] = 0\n",
        "        elif action == \"A -> B\":\n",
        "          Bcapacity = self.capacity[1] - state[1]\n",
        "          if state[0] <= Bcapacity:\n",
        "            newstate[0] = 0\n",
        "            newstate[1] = state[1] + state[0]\n",
        "          else:\n",
        "            newstate[0] = state[0] - Bcapacity\n",
        "            newstate[1] = self.capacity[1]\n",
        "        elif action == \"B -> A\":\n",
        "          Acapacity = self.capacity[0] - state[0]\n",
        "          if state[1] <= Acapacity:\n",
        "            newstate[1] = 0\n",
        "            newstate[0] = state[0] + state[1]\n",
        "          else:\n",
        "            newstate[1] = state[1] - Acapacity\n",
        "            newstate[0] = self.capacity[0]\n",
        "        return tuple(newstate)\n",
        "    def is_goal(self, state):        \n",
        "        return self.goal in state\n",
        "    \n",
        "    def action_cost(self, s, a, s1): \n",
        "        return 1\n",
        "    \n",
        "    def h(self, node):               \n",
        "        return 0\n",
        "    \n",
        "    def __str__(self):\n",
        "        return '{}({!r}, {!r})'.format(\n",
        "            type(self).__name__, self.initial, self.goal)"
      ],
      "execution_count": 0,
      "outputs": []
    },
    {
      "cell_type": "markdown",
      "metadata": {
        "id": "QzEiLB4KR2_1",
        "colab_type": "text"
      },
      "source": [
        "### 1.2 \n",
        "Encuentre una solución utilizando búsqueda en amplitud. Utilice la función `breadth_first_search` en el [notebook](https://github.com/aimacode/aima-python/blob/master/search4e.ipynb) de AIMA. Su código debe imprimir cada uno de los pasos de la solución. "
      ]
    },
    {
      "cell_type": "code",
      "metadata": {
        "id": "QNw1aPvfSBdf",
        "colab_type": "code",
        "colab": {}
      },
      "source": [
        "#Clase Nodo\n",
        "class Node:\n",
        "    \"A Node in a search tree.\"\n",
        "    def __init__(self, state, parent=None, action=None, path_cost=0):\n",
        "        self.__dict__.update(state=state, parent=parent, action=action, path_cost=path_cost)\n",
        "        #print(self.__dict__)\n",
        "\n",
        "    def __repr__(self): return '<{}>'.format(self.state)\n",
        "    def __len__(self): return 0 if self.parent is None else (1 + len(self.parent))\n",
        "    def __lt__(self, other): return self.path_cost < other.path_cost\n",
        "    \n",
        "    \n",
        "failure = Node('failure', path_cost=math.inf) # Indicates an algorithm couldn't find a solution.\n",
        "cutoff  = Node('cutoff',  path_cost=math.inf) # Indicates iterative deepening search was cut off.  \n",
        "\n",
        "# metodo para crear los hijos de un nodo  \n",
        "def expand(problem, node):\n",
        "    \"Expand a node, generating the children nodes.\"\n",
        "    s = node.state\n",
        "    for action in problem.actions(s):\n",
        "        s1 = problem.result(s, action)\n",
        "        cost = node.path_cost + problem.action_cost(s, action, s1)\n",
        "        yield Node(s1, node, action, cost)\n",
        "        \n",
        "# metodo que entrega las acciones usadas para resolver un problema\n",
        "def path_actions(node):\n",
        "    \"The sequence of actions to get to this node.\"\n",
        "    if node.parent is None:\n",
        "        return []  \n",
        "    return path_actions(node.parent) + [node.action]\n",
        "\n",
        "# metodo que entrega los estados usados para resolver un problema\n",
        "def path_states(node):\n",
        "    \"The sequence of states to get to this node.\"\n",
        "    if node in (cutoff, failure, None): \n",
        "        return []\n",
        "    return path_states(node.parent) + [node.state]"
      ],
      "execution_count": 0,
      "outputs": []
    },
    {
      "cell_type": "code",
      "metadata": {
        "id": "5BSF7pHIT776",
        "colab_type": "code",
        "colab": {}
      },
      "source": [
        "FIFOQueue = deque\n",
        "\n",
        "LIFOQueue = list\n",
        "\n",
        "class PriorityQueue:\n",
        "    \"\"\"A queue in which the item with minimum f(item) is always popped first.\"\"\"\n",
        "\n",
        "    def __init__(self, items=(), key=lambda x: x): \n",
        "        self.key = key\n",
        "        self.items = [] # a heap of (score, item) pairs\n",
        "        for item in items:\n",
        "            self.add(item)\n",
        "         \n",
        "    def add(self, item):\n",
        "        \"\"\"Add item to the queuez.\"\"\"\n",
        "        pair = (self.key(item), item)\n",
        "        heapq.heappush(self.items, pair)\n",
        "\n",
        "    def pop(self):\n",
        "        \"\"\"Pop and return the item with min f(item) value.\"\"\"\n",
        "        return heapq.heappop(self.items)[1]\n",
        "    \n",
        "    def top(self): return self.items[0][1]\n",
        "\n",
        "    def __len__(self): return len(self.items)"
      ],
      "execution_count": 0,
      "outputs": []
    },
    {
      "cell_type": "code",
      "metadata": {
        "id": "H5T30mGQUCWh",
        "colab_type": "code",
        "colab": {}
      },
      "source": [
        "def is_cycle(node, k=30):\n",
        "    \"Does this node form a cycle of length k or less?\"\n",
        "    def find_cycle(ancestor, k):\n",
        "        return (ancestor is not None and k > 0 and\n",
        "                (ancestor.state == node.state or find_cycle(ancestor.parent, k - 1)))\n",
        "    return find_cycle(node.parent, k)"
      ],
      "execution_count": 0,
      "outputs": []
    },
    {
      "cell_type": "code",
      "metadata": {
        "id": "MCh0qVPAUFnc",
        "colab_type": "code",
        "colab": {}
      },
      "source": [
        "def breadth_first_search(problem):\n",
        "    \"Search shallowest nodes in the search tree first.\"\n",
        "    node = Node(problem.initial)\n",
        "    if problem.is_goal(problem.initial):\n",
        "        return node\n",
        "    frontier = FIFOQueue([node])\n",
        "    reached = {problem.initial}\n",
        "    while frontier:\n",
        "        node = frontier.pop()\n",
        "        for child in expand(problem, node):\n",
        "            s = child.state\n",
        "            if problem.is_goal(s):\n",
        "                return child\n",
        "            if s not in reached:\n",
        "                reached.add(s)\n",
        "                frontier.appendleft(child)\n",
        "    return failure"
      ],
      "execution_count": 0,
      "outputs": []
    },
    {
      "cell_type": "code",
      "metadata": {
        "id": "pZgmAJmgUPXk",
        "colab_type": "code",
        "outputId": "c85cd84e-80c5-4067-e304-5f7e99ccf709",
        "colab": {
          "base_uri": "https://localhost:8080/",
          "height": 51
        }
      },
      "source": [
        "p1_2 = JarProblem((0,0),1,(3,5))\n",
        "soln1_2 = breadth_first_search(p1_2)\n",
        "path_actions(soln1_2), path_states(soln1_2)"
      ],
      "execution_count": 6,
      "outputs": [
        {
          "output_type": "execute_result",
          "data": {
            "text/plain": [
              "(['Fill A', 'A -> B', 'Fill A', 'A -> B'],\n",
              " [(0, 0), (3, 0), (0, 3), (3, 3), (1, 5)])"
            ]
          },
          "metadata": {
            "tags": []
          },
          "execution_count": 6
        }
      ]
    },
    {
      "cell_type": "markdown",
      "metadata": {
        "id": "jEj4AlwRViKS",
        "colab_type": "text"
      },
      "source": [
        "### 1.3\n",
        "Encuentre una solución utilizando búsqueda en profundidad. Utilice la función `depth_first_recursive_search` en el  [notebook](https://github.com/aimacode/aima-python/blob/master/search4e.ipynb) de AIMA. Su código debe imprimir cada uno de los pasos de la solución. \n",
        "\n",
        "¿La solución difiere de la solución producida por BFS? Explique."
      ]
    },
    {
      "cell_type": "code",
      "metadata": {
        "id": "6bZwkA0xVky4",
        "colab_type": "code",
        "colab": {}
      },
      "source": [
        "def depth_first_recursive_search(problem, node=None):\n",
        "    if node is None: \n",
        "        node = Node(problem.initial)\n",
        "    if problem.is_goal(node.state):\n",
        "        return node\n",
        "    elif is_cycle(node):\n",
        "        return failure\n",
        "    else:\n",
        "        for child in expand(problem, node):\n",
        "            result = depth_first_recursive_search(problem, child)\n",
        "            if result:\n",
        "                return result\n",
        "        return failure"
      ],
      "execution_count": 0,
      "outputs": []
    },
    {
      "cell_type": "code",
      "metadata": {
        "id": "Rxwuqf-FVxVO",
        "colab_type": "code",
        "outputId": "679ec0f5-b59c-46e2-9db6-d38ee962e9f0",
        "colab": {
          "base_uri": "https://localhost:8080/",
          "height": 374
        }
      },
      "source": [
        "p1_3 = JarProblem((0,0),1,(3,5))\n",
        "soln1_3 = depth_first_recursive_search(p1_3)\n",
        "path_actions(soln1_3), path_states(soln1_3)"
      ],
      "execution_count": 8,
      "outputs": [
        {
          "output_type": "execute_result",
          "data": {
            "text/plain": [
              "(['Fill A',\n",
              "  'Fill B',\n",
              "  'Dump A',\n",
              "  'B -> A',\n",
              "  'Dump A',\n",
              "  'B -> A',\n",
              "  'Fill B',\n",
              "  'B -> A',\n",
              "  'Dump A',\n",
              "  'B -> A'],\n",
              " [(0, 0),\n",
              "  (3, 0),\n",
              "  (3, 5),\n",
              "  (0, 5),\n",
              "  (3, 2),\n",
              "  (0, 2),\n",
              "  (2, 0),\n",
              "  (2, 5),\n",
              "  (3, 4),\n",
              "  (0, 4),\n",
              "  (3, 1)])"
            ]
          },
          "metadata": {
            "tags": []
          },
          "execution_count": 8
        }
      ]
    },
    {
      "cell_type": "markdown",
      "metadata": {
        "id": "oH0IRdPVWhVG",
        "colab_type": "text"
      },
      "source": [
        "###Explicación\n",
        "\n",
        "Las soluciones difieren en cuanto a que mientras la busqueda en amplitud va probando cada accion disponible que se puede ejecutar en un estado, la busqueda en profundidad unicamente se va centrando en una sola accion hasta llegar al final, por lo que no explora las demas opciones, como se puede evidenciar en los siguientes grafos:\n",
        "![texto alternativo](https://github.com/jsbecerrab/Imagenes-inteligentes/blob/master/grafos%20de%20estados.png?raw=true)\n",
        "![texto alternativo](https://github.com/jsbecerrab/Imagenes-inteligentes/blob/master/grafos%20de%20estados2.png?raw=true)"
      ]
    },
    {
      "cell_type": "markdown",
      "metadata": {
        "id": "Rp3GvvMEn6YL",
        "colab_type": "text"
      },
      "source": [
        "## 2. El problema de los misioneros y los caníbales (MC).\n",
        "\n",
        "Tres misioneros y tres caníbales deben cruzar un río usando un bote que puede llevar como máximo a dos personas, bajo la restricción de que, para ambos lados del río, si hay misioneros presentes en un lado, no pueden ser superados en número por caníbales (si lo fueran, los caníbales se comerían a los misioneros). El barco no puede cruzar el río por sí mismo sin gente a bordo.\n",
        "\n",
        "Su objetivo es modelar este problema como un problema de búsqueda y resolverlo usando diferentes algoritmos de búsqueda.\n",
        "![texto alternativo](https://github.com/jsbecerrab/Imagenes-inteligentes/blob/master/cruzacanivales.jpg?raw=true)\n",
        "\n",
        "### 2.1 Cree una clase para modelar el problema MC\n",
        "### 2.1 (Cree una clase para modelar el problema MC\n",
        "\n",
        "Un estado del problema puede representarse de diferentes formas. La sugerencia es usar una tupla de valores indicando el número de misioneros y caníbales en cada lado del rio, así como la posición del bote:\n",
        "\n",
        "```python\n",
        "('A', 3, 2, 0, 1)\n",
        "```\n",
        "\n",
        "Representa un estado en el cual el bote se encuentra en el lado izquierdo, hay 3 misioneros en el lado izquierdo, 2 caníbales en el lado izquierdo, cero misioneros en el lado derecho y 1 canibal en el lado derecho.\n",
        "\n",
        "Una acción puede representarse como una pareja de valores indicando cuantos misioneros y caníbales se van a mover. Por ejemplo el siguiente vector\n",
        "\n",
        "```python\n",
        "(0, 1)\n",
        "```\n",
        "\n",
        "Indica que se moverán cero misioneros y un canibal. Note que no es necesario representar el bote, pues este siempre se mueve.\n",
        "\n",
        "Asuma que al principio todos los actores están a la izquierda y al final todos deben estar a la derecha."
      ]
    },
    {
      "cell_type": "code",
      "metadata": {
        "id": "I603pecQond4",
        "colab_type": "code",
        "colab": {}
      },
      "source": [
        "class MCProblem(object):\n",
        "  \n",
        "    def __init__(self, initial, goal): \n",
        "        \n",
        "        self.initial = initial #por ejemplo (0,3,3,0,0)\n",
        "        self.goal = goal\n",
        "        #self.entities = entities\n",
        "    def actions(self, state):\n",
        "        #cada state es una 5-tupla\n",
        "        # state[0] = A el bote esta en el lado izquierdo\n",
        "        #state[1] = misioneros en el lado izquierdo\n",
        "        #state[2] = canibales en el lado izquierdo\n",
        "        #state[3] = misioneros en el lado derecho\n",
        "        #state[4] = canibales en el lado derecho\n",
        "        result = []\n",
        "        if state[0] == \"A\":\n",
        "          if state[1] == 0 and state[2] >= 2:\n",
        "            result.append(\"Move 2 Cannibal A -> B\")\n",
        "          if state[1] == 0 and state[2] >= 1:\n",
        "            result.append(\"Move 1 Cannibal A -> B\")\n",
        "          if state[3] == 0 and state[2] >= 2:\n",
        "            result.append(\"Move 2 Cannibal A -> B\")\n",
        "          if state[3] == 0 and state[2] >= 1:\n",
        "            result.append(\"Move 1 Cannibal A -> B\")\n",
        "          if state[2] >= 2 and state[1] >= state[2] and state[3] >= state[4]+2:\n",
        "            result.append(\"Move 2 Cannibal A -> B\")\n",
        "          if state[1] > 2 and state[1] - 2 >= state[2] and state[3]+2 >= state[4]: \n",
        "            result.append(\"Move 2 Missionary A -> B\")\n",
        "          if state[1] == 2 and state[1] >= state[2]: \n",
        "            result.append(\"Move 2 Missionary A -> B\")\n",
        "          if state[2] >= 1 and state[1] >= state[2] and state[3] >= state[4]+2:\n",
        "            result.append(\"Move 1 Cannibal A -> B\")\n",
        "          if state[1] > 1 and state[1] - 1 >= state[2] and state[3]+1 >= state[4]:\n",
        "            result.append(\"Move 1 Missionary A -> B\")\n",
        "          if state[1] == 1 and state[1] >= state[2]:\n",
        "            result.append(\"Move 1 Missionary A -> B\")\n",
        "          if state[1] >= 1 and state[2] >= 1 and state[1] - 1 >= state[2] -1 and state[3]+1 >= state[4]+1:\n",
        "            result.append(\"Move 1 Missionary and 1 Cannibal A -> B\")\n",
        "          \n",
        "        else:\n",
        "          if state[3] == 0 and state[4] >= 2:\n",
        "            result.append(\"Move 2 Cannibal B -> A\")\n",
        "          if state[3] == 0 and state[4] >= 1:\n",
        "            result.append(\"Move 1 Cannibal B -> A\")\n",
        "          if state[1] == 0 and state[4] >= 2:\n",
        "            result.append(\"Move 2 Cannibal B -> A\")\n",
        "          if state[1] == 0 and state[4] >= 1:\n",
        "            result.append(\"Move 1 Cannibal B -> A\")\n",
        "          if state[4] >= 2 and state[3] >= state[4] and state[1] >= state[2]+2:\n",
        "            result.append(\"Move 2 Cannibal B -> A\")\n",
        "          if state[3] > 2 and state[3] - 2 >= state[4] and state[1]+2 >= state[2]: \n",
        "            result.append(\"Move 2 Missionary B -> A\")\n",
        "          if state[3] == 2 and state[3] >= state[4]: \n",
        "            result.append(\"Move 2 Missionary B -> A\")\n",
        "          if state[4] >= 1 and state[3] >= state[4] and state[1] >= state[2]+1:\n",
        "            result.append(\"Move 1 Cannibal B -> A\")\n",
        "          if state[3] > 1 and state[3] - 1 >= state[4] and state[1]+1 >= state[2]:\n",
        "            result.append(\"Move 1 Missionary B -> A\") \n",
        "          if state[3] == 1 and state[3] >= state[4]:\n",
        "            result.append(\"Move 1 Missionary B -> A\")\n",
        "          if state[3] >= 1 and state[4] >= 1 and state[3] - 1 >= state[4] -1 and state[1]+1 >= state[2]+1:\n",
        "            result.append(\"Move 1 Missionary and 1 Cannibal B -> A\")\n",
        "          \n",
        "        return result\n",
        "      \n",
        "    def result(self, state, action): \n",
        "        newstate = list(state)\n",
        "        if action == \"Move 2 Cannibal A -> B\":\n",
        "          newstate[2] = state[2]-2\n",
        "          newstate[4] = state[4]+2\n",
        "          newstate[0] = \"B\"\n",
        "          \n",
        "        elif action == \"Move 2 Missionary A -> B\":\n",
        "          newstate[1] = state[1]-2\n",
        "          newstate[3] = state[3]+2\n",
        "          newstate[0] = \"B\"\n",
        "          \n",
        "        elif action == \"Move 1 Cannibal A -> B\":\n",
        "          newstate[2] = state[2]-1\n",
        "          newstate[4] = state[4]+1\n",
        "          newstate[0] = \"B\"\n",
        "          \n",
        "        elif action == \"Move 1 Missionary A -> B\":\n",
        "          newstate[1] = state[1]-1\n",
        "          newstate[3] = state[3]+1\n",
        "          newstate[0] = \"B\"\n",
        "          \n",
        "        elif action == \"Move 1 Missionary and 1 Cannibal A -> B\":\n",
        "          newstate[1] = state[1]-1\n",
        "          newstate[2] = state[2]-1\n",
        "          newstate[3] = state[3]+1\n",
        "          newstate[4] = state[4]+1\n",
        "          newstate[0] = \"B\"\n",
        "          \n",
        "        elif action == \"Move 2 Cannibal B -> A\":\n",
        "          newstate[2] = state[2]+2\n",
        "          newstate[4] = state[4]-2\n",
        "          newstate[0] = \"A\"\n",
        "        \n",
        "        elif action == \"Move 2 Missionary B -> A\":\n",
        "          newstate[1] = state[1]+2\n",
        "          newstate[3] = state[3]-2\n",
        "          newstate[0] = \"A\"\n",
        "        \n",
        "        elif action == \"Move 1 Cannibal B -> A\":\n",
        "          newstate[2] = state[2]+1\n",
        "          newstate[4] = state[4]-1\n",
        "          newstate[0] = \"A\"\n",
        "        \n",
        "        elif action == \"Move 1 Missionary B -> A\":\n",
        "          newstate[1] = state[1]+1\n",
        "          newstate[3] = state[3]-1\n",
        "          newstate[0] = \"A\"\n",
        "        \n",
        "        elif action == \"Move 1 Missionary and 1 Cannibal B -> A\":\n",
        "          newstate[1] = state[1]+1\n",
        "          newstate[2] = state[2]+1\n",
        "          newstate[3] = state[3]-1\n",
        "          newstate[4] = state[4]-1\n",
        "          newstate[0] = \"A\"\n",
        "          \n",
        "        return tuple(newstate)\n",
        "    def is_goal(self, state):        \n",
        "        return self.goal == state\n",
        "    \n",
        "    def action_cost(self, s, a, s1): \n",
        "        return 1\n",
        "    \n",
        "    def h(self, node):               \n",
        "        return 0\n",
        "    \n",
        "    def __str__(self):\n",
        "        return '{}({!r}, {!r})'.format(\n",
        "            type(self).__name__, self.initial, self.goal)\n",
        "  \n",
        "        "
      ],
      "execution_count": 0,
      "outputs": []
    },
    {
      "cell_type": "markdown",
      "metadata": {
        "id": "7U5XxII1pKkN",
        "colab_type": "text"
      },
      "source": [
        "### 2.2   Use un método de búsqueda para encontrar una solución óptima al problema\n",
        "\n",
        "Cree una función que calcule la secuencia de acciones que resuelva el problema así como los estados (incluidos el inicial y el final) que se  visitan al ejecutar la solución. Cuántos movimientos requiere la solución óptima?"
      ]
    },
    {
      "cell_type": "code",
      "metadata": {
        "id": "iGuxuVTJpUpi",
        "colab_type": "code",
        "colab": {}
      },
      "source": [
        "def breadth_first_search_MC(problem):\n",
        "    \"Search shallowest nodes in the search tree first.\"\n",
        "    node = Node(problem.initial)\n",
        "    if problem.is_goal(problem.initial):\n",
        "        return node\n",
        "    frontier = FIFOQueue([node])\n",
        "    reached = {problem.initial}\n",
        "    while frontier:\n",
        "        node = frontier.pop()\n",
        "        for child in expand(problem, node):\n",
        "            s = child.state\n",
        "            if problem.is_goal(s):\n",
        "                return child\n",
        "            if s not in reached:\n",
        "                reached.add(s)\n",
        "                frontier.appendleft(child)\n",
        "    return failure"
      ],
      "execution_count": 0,
      "outputs": []
    },
    {
      "cell_type": "code",
      "metadata": {
        "id": "9M1cQB-MpjXm",
        "colab_type": "code",
        "colab": {}
      },
      "source": [
        "# metodo que entrega las acciones usadas para resolver un problema\n",
        "def path_actions_MC(node):\n",
        "    \"The sequence of actions to get to this node.\"\n",
        "    if node.parent is None:\n",
        "        return []  \n",
        "    return path_actions(node.parent) + [node.action]\n",
        "\n",
        "# metodo que entrega los estados usados para resolver un problema\n",
        "def path_states_MC(node):\n",
        "    \"The sequence of states to get to this node.\"\n",
        "    if node in (cutoff, failure, None): \n",
        "        return []\n",
        "    return path_states(node.parent) + [node.state]"
      ],
      "execution_count": 0,
      "outputs": []
    },
    {
      "cell_type": "code",
      "metadata": {
        "id": "PQL8goPRp1JU",
        "colab_type": "code",
        "outputId": "35e089d0-6aee-42fb-f76e-090219975190",
        "colab": {
          "base_uri": "https://localhost:8080/",
          "height": 408
        }
      },
      "source": [
        "p2_2 = MCProblem((\"A\",3,3,0,0),(\"B\",0,0,3,3))\n",
        "soln2_2 = breadth_first_search_MC(p2_2)\n",
        "path_actions_MC(soln2_2), path_states_MC(soln2_2)"
      ],
      "execution_count": 12,
      "outputs": [
        {
          "output_type": "execute_result",
          "data": {
            "text/plain": [
              "(['Move 2 Cannibal A -> B',\n",
              "  'Move 1 Cannibal B -> A',\n",
              "  'Move 2 Cannibal A -> B',\n",
              "  'Move 1 Cannibal B -> A',\n",
              "  'Move 2 Missionary A -> B',\n",
              "  'Move 1 Missionary and 1 Cannibal B -> A',\n",
              "  'Move 2 Missionary A -> B',\n",
              "  'Move 1 Cannibal B -> A',\n",
              "  'Move 2 Cannibal A -> B',\n",
              "  'Move 1 Cannibal B -> A',\n",
              "  'Move 2 Cannibal A -> B'],\n",
              " [('A', 3, 3, 0, 0),\n",
              "  ('B', 3, 1, 0, 2),\n",
              "  ('A', 3, 2, 0, 1),\n",
              "  ('B', 3, 0, 0, 3),\n",
              "  ('A', 3, 1, 0, 2),\n",
              "  ('B', 1, 1, 2, 2),\n",
              "  ('A', 2, 2, 1, 1),\n",
              "  ('B', 0, 2, 3, 1),\n",
              "  ('A', 0, 3, 3, 0),\n",
              "  ('B', 0, 1, 3, 2),\n",
              "  ('A', 0, 2, 3, 1),\n",
              "  ('B', 0, 0, 3, 3)])"
            ]
          },
          "metadata": {
            "tags": []
          },
          "execution_count": 12
        }
      ]
    },
    {
      "cell_type": "markdown",
      "metadata": {
        "id": "CSUXnvEJqWvc",
        "colab_type": "text"
      },
      "source": [
        "###Solución optima\n",
        "\n",
        "La Solución optima usando el algoritmo de BFS es de 11 acciones"
      ]
    },
    {
      "cell_type": "markdown",
      "metadata": {
        "id": "M6R6bJNgqmaP",
        "colab_type": "text"
      },
      "source": [
        "### 2.3  Estados alcanzables desde el estado inicial\n",
        "\n",
        "Cree una función que calcule todos los estados alcanzables desde el estado inicial, es decir estados para los que existe una secuencia de acciones que lleva del estado inicial a ellos. ¿Son todos los estados posibles alcanzables?"
      ]
    },
    {
      "cell_type": "code",
      "metadata": {
        "id": "h1EjyVA69CSd",
        "colab_type": "code",
        "outputId": "7c0140da-5385-4b42-8ef9-a990d5070031",
        "colab": {
          "base_uri": "https://localhost:8080/",
          "height": 51
        }
      },
      "source": [
        "#Clase Nodo que muestra todos los estados\n",
        "class Node_p:\n",
        "    \"A Node in a search tree.\"\n",
        "    def __init__(self, state, parent=None, action=None, path_cost=0):\n",
        "        self.__dict__.update(state=state, parent=parent, action=action, path_cost=path_cost)\n",
        "        print(self.__dict__)\n",
        "\n",
        "    def __repr__(self): return '<{}>'.format(self.state)\n",
        "    def __len__(self): return 0 if self.parent is None else (1 + len(self.parent))\n",
        "    def __lt__(self, other): return self.path_cost < other.path_cost\n",
        "    \n",
        "    \n",
        "failure = Node_p('failure', path_cost=math.inf) # Indicates an algorithm couldn't find a solution.\n",
        "cutoff  = Node_p('cutoff',  path_cost=math.inf) # Indicates iterative deepening search was cut off.  "
      ],
      "execution_count": 13,
      "outputs": [
        {
          "output_type": "stream",
          "text": [
            "{'state': 'failure', 'parent': None, 'action': None, 'path_cost': inf}\n",
            "{'state': 'cutoff', 'parent': None, 'action': None, 'path_cost': inf}\n"
          ],
          "name": "stdout"
        }
      ]
    },
    {
      "cell_type": "code",
      "metadata": {
        "id": "Uls0th73DQjo",
        "colab_type": "code",
        "colab": {}
      },
      "source": [
        "def breadth_first_search_MC_AS(problem): #Grafo que crea todo el arbol\n",
        "    \"Search shallowest nodes in the search tree first.\"\n",
        "    node = Node_p(problem.initial)\n",
        "    frontier = FIFOQueue([node])\n",
        "    reached = {problem.initial}\n",
        "    while frontier:\n",
        "        node = frontier.pop()\n",
        "        for child in expand(problem, node):\n",
        "            s = child.state\n",
        "            if s not in reached:\n",
        "                reached.add(s)\n",
        "                frontier.appendleft(child)\n",
        "    return failure"
      ],
      "execution_count": 0,
      "outputs": []
    },
    {
      "cell_type": "code",
      "metadata": {
        "id": "cpX5qlSZF5F1",
        "colab_type": "code",
        "colab": {}
      },
      "source": [
        "def expand(problem, node):\n",
        "    \"Expand a node, generating the children nodes.\"\n",
        "    s = node.state\n",
        "    for action in problem.actions(s):\n",
        "        s1 = problem.result(s, action)\n",
        "        cost = node.path_cost + problem.action_cost(s, action, s1)\n",
        "        yield Node_p(s1, node, action, cost)"
      ],
      "execution_count": 0,
      "outputs": []
    },
    {
      "cell_type": "code",
      "metadata": {
        "id": "5-CpRuM89GKw",
        "colab_type": "code",
        "outputId": "efcac23e-27cd-499b-f90a-19d52f64c3d1",
        "colab": {
          "base_uri": "https://localhost:8080/",
          "height": 612
        }
      },
      "source": [
        "p2_3 = MCProblem((\"A\",3,3,0,0),(\"B\",0,0,3,3))\n",
        "soln2_3 = breadth_first_search_MC_AS(p2_3)"
      ],
      "execution_count": 16,
      "outputs": [
        {
          "output_type": "stream",
          "text": [
            "{'state': ('A', 3, 3, 0, 0), 'parent': None, 'action': None, 'path_cost': 0}\n",
            "{'state': ('B', 3, 1, 0, 2), 'parent': <('A', 3, 3, 0, 0)>, 'action': 'Move 2 Cannibal A -> B', 'path_cost': 1}\n",
            "{'state': ('B', 3, 2, 0, 1), 'parent': <('A', 3, 3, 0, 0)>, 'action': 'Move 1 Cannibal A -> B', 'path_cost': 1}\n",
            "{'state': ('B', 2, 2, 1, 1), 'parent': <('A', 3, 3, 0, 0)>, 'action': 'Move 1 Missionary and 1 Cannibal A -> B', 'path_cost': 1}\n",
            "{'state': ('A', 3, 3, 0, 0), 'parent': <('B', 3, 1, 0, 2)>, 'action': 'Move 2 Cannibal B -> A', 'path_cost': 2}\n",
            "{'state': ('A', 3, 2, 0, 1), 'parent': <('B', 3, 1, 0, 2)>, 'action': 'Move 1 Cannibal B -> A', 'path_cost': 2}\n",
            "{'state': ('A', 3, 3, 0, 0), 'parent': <('B', 3, 2, 0, 1)>, 'action': 'Move 1 Cannibal B -> A', 'path_cost': 2}\n",
            "{'state': ('A', 3, 2, 0, 1), 'parent': <('B', 2, 2, 1, 1)>, 'action': 'Move 1 Missionary B -> A', 'path_cost': 2}\n",
            "{'state': ('A', 3, 3, 0, 0), 'parent': <('B', 2, 2, 1, 1)>, 'action': 'Move 1 Missionary and 1 Cannibal B -> A', 'path_cost': 2}\n",
            "{'state': ('B', 3, 0, 0, 3), 'parent': <('A', 3, 2, 0, 1)>, 'action': 'Move 2 Cannibal A -> B', 'path_cost': 3}\n",
            "{'state': ('B', 3, 1, 0, 2), 'parent': <('A', 3, 2, 0, 1)>, 'action': 'Move 1 Cannibal A -> B', 'path_cost': 3}\n",
            "{'state': ('B', 2, 2, 1, 1), 'parent': <('A', 3, 2, 0, 1)>, 'action': 'Move 1 Missionary A -> B', 'path_cost': 3}\n",
            "{'state': ('A', 3, 2, 0, 1), 'parent': <('B', 3, 0, 0, 3)>, 'action': 'Move 2 Cannibal B -> A', 'path_cost': 4}\n",
            "{'state': ('A', 3, 1, 0, 2), 'parent': <('B', 3, 0, 0, 3)>, 'action': 'Move 1 Cannibal B -> A', 'path_cost': 4}\n",
            "{'state': ('B', 3, 0, 0, 3), 'parent': <('A', 3, 1, 0, 2)>, 'action': 'Move 1 Cannibal A -> B', 'path_cost': 5}\n",
            "{'state': ('B', 1, 1, 2, 2), 'parent': <('A', 3, 1, 0, 2)>, 'action': 'Move 2 Missionary A -> B', 'path_cost': 5}\n",
            "{'state': ('A', 3, 1, 0, 2), 'parent': <('B', 1, 1, 2, 2)>, 'action': 'Move 2 Missionary B -> A', 'path_cost': 6}\n",
            "{'state': ('A', 2, 2, 1, 1), 'parent': <('B', 1, 1, 2, 2)>, 'action': 'Move 1 Missionary and 1 Cannibal B -> A', 'path_cost': 6}\n",
            "{'state': ('B', 0, 2, 3, 1), 'parent': <('A', 2, 2, 1, 1)>, 'action': 'Move 2 Missionary A -> B', 'path_cost': 7}\n",
            "{'state': ('B', 1, 1, 2, 2), 'parent': <('A', 2, 2, 1, 1)>, 'action': 'Move 1 Missionary and 1 Cannibal A -> B', 'path_cost': 7}\n",
            "{'state': ('A', 0, 3, 3, 0), 'parent': <('B', 0, 2, 3, 1)>, 'action': 'Move 1 Cannibal B -> A', 'path_cost': 8}\n",
            "{'state': ('A', 2, 2, 1, 1), 'parent': <('B', 0, 2, 3, 1)>, 'action': 'Move 2 Missionary B -> A', 'path_cost': 8}\n",
            "{'state': ('B', 0, 1, 3, 2), 'parent': <('A', 0, 3, 3, 0)>, 'action': 'Move 2 Cannibal A -> B', 'path_cost': 9}\n",
            "{'state': ('B', 0, 2, 3, 1), 'parent': <('A', 0, 3, 3, 0)>, 'action': 'Move 1 Cannibal A -> B', 'path_cost': 9}\n",
            "{'state': ('A', 0, 3, 3, 0), 'parent': <('B', 0, 1, 3, 2)>, 'action': 'Move 2 Cannibal B -> A', 'path_cost': 10}\n",
            "{'state': ('A', 0, 2, 3, 1), 'parent': <('B', 0, 1, 3, 2)>, 'action': 'Move 1 Cannibal B -> A', 'path_cost': 10}\n",
            "{'state': ('A', 1, 1, 2, 2), 'parent': <('B', 0, 1, 3, 2)>, 'action': 'Move 1 Missionary B -> A', 'path_cost': 10}\n",
            "{'state': ('B', 0, 0, 3, 3), 'parent': <('A', 0, 2, 3, 1)>, 'action': 'Move 2 Cannibal A -> B', 'path_cost': 11}\n",
            "{'state': ('B', 0, 1, 3, 2), 'parent': <('A', 0, 2, 3, 1)>, 'action': 'Move 1 Cannibal A -> B', 'path_cost': 11}\n",
            "{'state': ('B', 0, 1, 3, 2), 'parent': <('A', 1, 1, 2, 2)>, 'action': 'Move 1 Missionary A -> B', 'path_cost': 11}\n",
            "{'state': ('B', 0, 0, 3, 3), 'parent': <('A', 1, 1, 2, 2)>, 'action': 'Move 1 Missionary and 1 Cannibal A -> B', 'path_cost': 11}\n",
            "{'state': ('A', 0, 2, 3, 1), 'parent': <('B', 0, 0, 3, 3)>, 'action': 'Move 2 Cannibal B -> A', 'path_cost': 12}\n",
            "{'state': ('A', 0, 1, 3, 2), 'parent': <('B', 0, 0, 3, 3)>, 'action': 'Move 1 Cannibal B -> A', 'path_cost': 12}\n",
            "{'state': ('A', 1, 1, 2, 2), 'parent': <('B', 0, 0, 3, 3)>, 'action': 'Move 1 Missionary and 1 Cannibal B -> A', 'path_cost': 12}\n",
            "{'state': ('B', 0, 0, 3, 3), 'parent': <('A', 0, 1, 3, 2)>, 'action': 'Move 1 Cannibal A -> B', 'path_cost': 13}\n"
          ],
          "name": "stdout"
        }
      ]
    },
    {
      "cell_type": "markdown",
      "metadata": {
        "id": "k4330-EJZTO_",
        "colab_type": "text"
      },
      "source": [
        "![texto alternativo](https://github.com/jsbecerrab/Imagenes-inteligentes/blob/master/diagrama.png?raw=true)"
      ]
    },
    {
      "cell_type": "markdown",
      "metadata": {
        "id": "2OrkP1jvcmp_",
        "colab_type": "text"
      },
      "source": [
        "Existen 7 estados posibles por cada lado del rio.  \n",
        "(A,3,3,0,0),(A,3,2,0,1),(A,2,2,1,1),(A,1,1,2,2),(A,0,3,3,0),(A,3,1,0,2),(A,0,2,3,1)  \n",
        "(B,0,0,3,3),(B,3,2,0,1),(B,2,2,1,1),(B,1,1,2,2),(B,3,0,0,3),(B,3,1,0,2),(B,0,2,3,1)  \n",
        "Como se puede observar también el arbol tiene una altura de 14, por lo que cada estado posible aparece por lo menos una vez en cada nivel, haciendo que todos los estados posibles sean alcanzables desde el estado inicial."
      ]
    }
  ]
}